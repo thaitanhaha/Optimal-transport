{
  "nbformat": 4,
  "nbformat_minor": 0,
  "metadata": {
    "colab": {
      "provenance": [],
      "gpuType": "T4"
    },
    "kernelspec": {
      "name": "python3",
      "display_name": "Python 3"
    },
    "language_info": {
      "name": "python"
    },
    "accelerator": "GPU"
  },
  "cells": [
    {
      "cell_type": "code",
      "source": [
        "pip install pot"
      ],
      "metadata": {
        "colab": {
          "base_uri": "https://localhost:8080/"
        },
        "id": "mQV771efCtA6",
        "outputId": "84625adf-553c-4623-c385-c81482c996b3"
      },
      "execution_count": 1,
      "outputs": [
        {
          "output_type": "stream",
          "name": "stdout",
          "text": [
            "Collecting pot\n",
            "  Downloading POT-0.9.4-cp310-cp310-manylinux_2_17_x86_64.manylinux2014_x86_64.whl.metadata (32 kB)\n",
            "Requirement already satisfied: numpy>=1.16 in /usr/local/lib/python3.10/dist-packages (from pot) (1.26.4)\n",
            "Requirement already satisfied: scipy>=1.6 in /usr/local/lib/python3.10/dist-packages (from pot) (1.13.1)\n",
            "Downloading POT-0.9.4-cp310-cp310-manylinux_2_17_x86_64.manylinux2014_x86_64.whl (835 kB)\n",
            "\u001b[2K   \u001b[90m━━━━━━━━━━━━━━━━━━━━━━━━━━━━━━━━━━━━━━━━\u001b[0m \u001b[32m835.4/835.4 kB\u001b[0m \u001b[31m17.9 MB/s\u001b[0m eta \u001b[36m0:00:00\u001b[0m\n",
            "\u001b[?25hInstalling collected packages: pot\n",
            "Successfully installed pot-0.9.4\n"
          ]
        }
      ]
    },
    {
      "cell_type": "code",
      "execution_count": 2,
      "metadata": {
        "id": "O4DrVsjpB9Z5"
      },
      "outputs": [],
      "source": [
        "import numpy as np\n",
        "import ot\n",
        "import matplotlib.pyplot as plt\n",
        "import time"
      ]
    },
    {
      "cell_type": "code",
      "source": [
        "def sinkhorn_knopp(mu, nu, C, reg=0.1, n_iter=1000, tol=1e-9):\n",
        "    count = 0\n",
        "    K = np.exp(-C / reg)\n",
        "    u = np.ones_like(mu)\n",
        "    v = np.ones_like(nu)\n",
        "    for _ in range(n_iter):\n",
        "        count += 1\n",
        "        u_prev = u.copy()\n",
        "        u = mu / (K @ v)\n",
        "        v = nu / (K.T @ u)\n",
        "        if np.linalg.norm(u - u_prev, 1) < tol:\n",
        "            break\n",
        "    Gamma = np.diag(u) @ K @ np.diag(v)\n",
        "    return Gamma, count\n",
        "\n",
        "def IPOT(mu, nu, C, beta=2, tol=1e-9, max_iter=1000, L=1):\n",
        "    count = 0\n",
        "    m = len(mu)\n",
        "    n = len(nu)\n",
        "    a = np.ones([m,])\n",
        "    b = np.ones([n,])\n",
        "    Gamma = np.ones((m,n))/(m*n)\n",
        "    G = np.exp(-(C/beta))\n",
        "    for i in range(max_iter):\n",
        "        count += 1\n",
        "        Q = G * Gamma\n",
        "        for l in range(L):\n",
        "            a = mu/np.matmul(Q,b)\n",
        "            b = nu/np.matmul(np.transpose(Q),a)\n",
        "        Gamma = np.expand_dims(a,axis=1) * Q * np.expand_dims(b,axis=0)\n",
        "        if np.linalg.norm(Q - Gamma) < tol:\n",
        "            break\n",
        "    return Gamma, count"
      ],
      "metadata": {
        "id": "ekTdnXSQCGxo"
      },
      "execution_count": 9,
      "outputs": []
    },
    {
      "cell_type": "code",
      "source": [
        "np.random.seed(42)\n",
        "\n",
        "num = 1000\n",
        "\n",
        "english_embeddings = np.random.rand(num, 300)\n",
        "vietnamese_embeddings = np.random.rand(num, 300)\n",
        "\n",
        "cost_matrix = ot.dist(english_embeddings, vietnamese_embeddings, metric='euclidean')"
      ],
      "metadata": {
        "id": "6TP6E07gCPXg"
      },
      "execution_count": 4,
      "outputs": []
    },
    {
      "cell_type": "code",
      "source": [
        "# sinkhorn\n",
        "reg_list = [0.1, 0.01, 0.05]\n",
        "\n",
        "for reg in reg_list:\n",
        "    ot_start = time.time()\n",
        "    ot_plan, ot_count = sinkhorn_knopp(np.ones(num) / num, np.ones(num) / num, cost_matrix, reg)\n",
        "    ot_end = time.time()\n",
        "    print()\n",
        "    total_ot_cost = (ot_plan * cost_matrix).sum()\n",
        "    print(\"Total OT Cost:\", total_ot_cost)\n",
        "    print(\"Total OT Time:\", ot_end - ot_start)\n",
        "    print(\"Num iter:\", ot_count)"
      ],
      "metadata": {
        "id": "piFjCsjVCL1X"
      },
      "execution_count": null,
      "outputs": []
    },
    {
      "cell_type": "code",
      "source": [
        "# IPOT\n",
        "ipot_start = time.time()\n",
        "ipot_plan, ipot_count = IPOT(np.ones(num) / num, np.ones(num) / num, cost_matrix)\n",
        "ipot_end = time.time()\n",
        "\n",
        "print()\n",
        "total_ipot_cost = (ipot_plan * cost_matrix).sum()\n",
        "print(\"Total IPOT Cost:\", total_ipot_cost)\n",
        "print(\"Total IPOT Time:\", ipot_end - ipot_start)\n",
        "print(\"Num iter:\", ipot_count)"
      ],
      "metadata": {
        "id": "orEae2gOEaQm"
      },
      "execution_count": null,
      "outputs": []
    },
    {
      "cell_type": "markdown",
      "source": [
        "### Dimension 16 - Data 1000\n",
        "\n",
        "**With CPU**\n",
        "\n",
        "| Method       | Total Cost        | Total Time (seconds) | Num Iter |\n",
        "|---------------|--------------------|----------------------|----------|\n",
        "| **OT (0.1)**    | 1.1110577541180653 | 0.1927204132080078   |   30     |\n",
        "| **OT (0.01)**    | 0.8928369460201366 | 1.3399744033813477  |    1000    |\n",
        "| **OT (0.05)**    | 0.9411637510597916 | 1.3571662902832031   |    355    |\n",
        "| **IPOT**  | 0.8908035207276896 |  18.85797119140625  |  1000      |\n",
        "\n",
        "**With GPU**\n",
        "\n",
        "| Method       | Total Cost        | Total Time (seconds) | Num Iter |\n",
        "|---------------|--------------------|----------------------|----------|\n",
        "| **OT (0.1)**    | 1.1110577541180653 | 0.25974488258361816   | 30        |\n",
        "| **OT (0.01)**    | 0.8928369460201366 | 0.936866044998169   | 1000      |\n",
        "| **OT (0.05)**    | 0.9411637510597916 | 0.6413471698760986   | 353        |\n",
        "| **IPOT**  | 0.8908035207276898 | 7.8923821449279785    | 1000     |\n"
      ],
      "metadata": {
        "id": "q2SAu2KwMmwJ"
      }
    },
    {
      "cell_type": "markdown",
      "source": [
        "### Dimension 300 - Data 1000\n",
        "\n",
        "**With CPU**\n",
        "\n",
        "| Method       | Total Cost        | Total Time (seconds) | Num Iter |\n",
        "|---------------|--------------------|----------------------|----------|\n",
        "| **OT (0.1)**    | 6.64015543733569 |  0.2649712562561035  |  157       |\n",
        "| **OT (0.01)**    | 6.407529926342345 |  17.356149911880493  |   1000      |\n",
        "| **OT (0.05)**    | 6.463452144995755 |  0.7579765319824219  |   440      |\n",
        "| **IPOT**  | 6.405467976171361 | 13.811148881912231   |  1000       |\n",
        "\n",
        "**With GPU**\n",
        "\n",
        "| Method       | Total Cost        | Total Time (seconds) | Num Iter |\n",
        "|---------------|--------------------|----------------------|----------|\n",
        "| **OT (0.1)**    | 6.64015543733569 |  0.43781304359436035  |    157     |\n",
        "| **OT (0.01)**    | 6.407529926342345 | 26.59229016304016   |   1000      |\n",
        "| **OT (0.05)**    | 6.463452144995755 |   0.44510865211486816  |    440     |\n",
        "| **IPOT**  | 6.405467976171361 | 10.711238622665405   |    1000     |"
      ],
      "metadata": {
        "id": "-fXU03XofwV4"
      }
    }
  ]
}