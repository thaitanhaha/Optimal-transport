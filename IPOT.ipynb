{
  "nbformat": 4,
  "nbformat_minor": 0,
  "metadata": {
    "colab": {
      "provenance": [],
      "gpuType": "T4"
    },
    "kernelspec": {
      "name": "python3",
      "display_name": "Python 3"
    },
    "language_info": {
      "name": "python"
    },
    "accelerator": "GPU"
  },
  "cells": [
    {
      "cell_type": "code",
      "source": [
        "pip install pot"
      ],
      "metadata": {
        "colab": {
          "base_uri": "https://localhost:8080/"
        },
        "id": "mQV771efCtA6",
        "outputId": "d8113217-6038-452a-f741-2e555c3d5df4"
      },
      "execution_count": 1,
      "outputs": [
        {
          "output_type": "stream",
          "name": "stdout",
          "text": [
            "Collecting pot\n",
            "  Downloading POT-0.9.4-cp310-cp310-manylinux_2_17_x86_64.manylinux2014_x86_64.whl.metadata (32 kB)\n",
            "Requirement already satisfied: numpy>=1.16 in /usr/local/lib/python3.10/dist-packages (from pot) (1.26.4)\n",
            "Requirement already satisfied: scipy>=1.6 in /usr/local/lib/python3.10/dist-packages (from pot) (1.13.1)\n",
            "Downloading POT-0.9.4-cp310-cp310-manylinux_2_17_x86_64.manylinux2014_x86_64.whl (835 kB)\n",
            "\u001b[2K   \u001b[90m━━━━━━━━━━━━━━━━━━━━━━━━━━━━━━━━━━━━━━━━\u001b[0m \u001b[32m835.4/835.4 kB\u001b[0m \u001b[31m21.1 MB/s\u001b[0m eta \u001b[36m0:00:00\u001b[0m\n",
            "\u001b[?25hInstalling collected packages: pot\n",
            "Successfully installed pot-0.9.4\n"
          ]
        }
      ]
    },
    {
      "cell_type": "code",
      "execution_count": 2,
      "metadata": {
        "id": "O4DrVsjpB9Z5"
      },
      "outputs": [],
      "source": [
        "import numpy as np\n",
        "import ot\n",
        "import matplotlib.pyplot as plt\n",
        "import time"
      ]
    },
    {
      "cell_type": "code",
      "source": [
        "def sinkhorn_knopp(mu, nu, C, reg=0.1, n_iter=1000, tol=1e-9):\n",
        "    count = 0\n",
        "    K = np.exp(-C / reg)\n",
        "    u = np.ones_like(mu)\n",
        "    v = np.ones_like(nu)\n",
        "    for _ in range(n_iter):\n",
        "        count += 1\n",
        "        u_prev = u.copy()\n",
        "        u = mu / (K @ v)\n",
        "        v = nu / (K.T @ u)\n",
        "        if np.linalg.norm(u - u_prev, 1) < tol:\n",
        "            break\n",
        "    Gamma = np.diag(u) @ K @ np.diag(v)\n",
        "    return Gamma, count\n",
        "\n",
        "def IPOT(mu, nu, C, beta=2, tol=1e-9, max_iter=1000, L=1):\n",
        "    count = 0\n",
        "    m, n = C.shape\n",
        "    b = np.ones(n) / n\n",
        "    G = np.exp(-C/beta)\n",
        "    Gamma = np.ones((m, n))\n",
        "    for t in range(max_iter):\n",
        "        count += 1\n",
        "        Q = G * Gamma\n",
        "        for l in range(L):\n",
        "            a = mu / (Q @ b)\n",
        "            b = nu / (Q.T @ a)\n",
        "        Gamma = np.diag(a) @ Q @ np.diag(b)\n",
        "        if np.linalg.norm(Q - Gamma) < tol:\n",
        "            break\n",
        "    return Gamma, count\n",
        "\n",
        "def IPOT_1(mu, nu, C, beta=2, tol=1e-9, max_iter=1000, L=1):\n",
        "    count = 0\n",
        "    m = len(mu)\n",
        "    n = len(nu)\n",
        "    a = np.ones([m,])\n",
        "    b = np.ones([n,])\n",
        "    Gamma = np.ones((m,n))/(m*n)\n",
        "    G = np.exp(-(C/beta))\n",
        "    for i in range(max_iter):\n",
        "        count += 1\n",
        "        Q = G * Gamma\n",
        "        for l in range(L):\n",
        "            a = mu/np.matmul(Q,b)\n",
        "            b = nu/np.matmul(np.transpose(Q),a)\n",
        "        Gamma = np.expand_dims(a,axis=1) * Q * np.expand_dims(b,axis=0)\n",
        "        if np.linalg.norm(Q - Gamma) < tol:\n",
        "            break\n",
        "    return Gamma, count"
      ],
      "metadata": {
        "id": "ekTdnXSQCGxo"
      },
      "execution_count": 10,
      "outputs": []
    },
    {
      "cell_type": "code",
      "source": [
        "np.random.seed(42)\n",
        "\n",
        "num = 1000\n",
        "\n",
        "english_embeddings = np.random.rand(num, 300)\n",
        "vietnamese_embeddings = np.random.rand(num, 300)\n",
        "\n",
        "cost_matrix = ot.dist(english_embeddings, vietnamese_embeddings, metric='euclidean')\n",
        "cost_matrix_new = cost_matrix/cost_matrix.max()"
      ],
      "metadata": {
        "id": "6TP6E07gCPXg"
      },
      "execution_count": 4,
      "outputs": []
    },
    {
      "cell_type": "code",
      "source": [
        "# sinkhorn\n",
        "reg_list = [0.1, 0.01, 0.05]\n",
        "\n",
        "for reg in reg_list:\n",
        "    ot_start = time.time()\n",
        "    ot_plan, ot_count = sinkhorn_knopp(np.ones(num) / num, np.ones(num) / num, cost_matrix_new, reg)\n",
        "    ot_end = time.time()\n",
        "    print()\n",
        "    total_ot_cost = (ot_plan * cost_matrix).sum()\n",
        "    print(\"Total OT Cost:\", total_ot_cost)\n",
        "    print(\"Total OT Time:\", ot_end - ot_start)\n",
        "    print(\"Num iter:\", ot_count)"
      ],
      "metadata": {
        "colab": {
          "base_uri": "https://localhost:8080/"
        },
        "id": "piFjCsjVCL1X",
        "outputId": "f3fc2d05-665d-4e6a-9a41-35e641045411"
      },
      "execution_count": 5,
      "outputs": [
        {
          "output_type": "stream",
          "name": "stdout",
          "text": [
            "\n",
            "Total OT Cost: 7.012189574275423\n",
            "Total OT Time: 0.0862886905670166\n",
            "Num iter: 4\n",
            "\n",
            "Total OT Cost: 6.575419710861599\n",
            "Total OT Time: 0.1262683868408203\n",
            "Num iter: 67\n",
            "\n",
            "Total OT Cost: 6.9600939689426955\n",
            "Total OT Time: 0.10007762908935547\n",
            "Num iter: 7\n"
          ]
        }
      ]
    },
    {
      "cell_type": "code",
      "source": [
        "# IPOT\n",
        "ipot_start = time.time()\n",
        "ipot_plan, ipot_count = IPOT(np.ones(num) / num, np.ones(num) / num, cost_matrix_new)\n",
        "ipot_end = time.time()\n",
        "\n",
        "print()\n",
        "total_ipot_cost = (ipot_plan * cost_matrix).sum()\n",
        "print(\"Total IPOT Cost:\", total_ipot_cost)\n",
        "print(\"Total IPOT Time:\", ipot_end - ipot_start)\n",
        "print(\"Num iter:\", ipot_count)"
      ],
      "metadata": {
        "colab": {
          "base_uri": "https://localhost:8080/"
        },
        "id": "GAHTXyWLCKBr",
        "outputId": "ad00b60b-af15-4e10-f57f-2e34aff5e4be"
      },
      "execution_count": 6,
      "outputs": [
        {
          "output_type": "stream",
          "name": "stdout",
          "text": [
            "\n",
            "Total IPOT Cost: 6.410761435730385\n",
            "Total IPOT Time: 86.92793369293213\n",
            "Num iter: 1000\n"
          ]
        }
      ]
    },
    {
      "cell_type": "code",
      "source": [
        "# IPOT_1\n",
        "ipot_start = time.time()\n",
        "ipot_plan, ipot_count = IPOT_1(np.ones(num) / num, np.ones(num) / num, cost_matrix_new)\n",
        "ipot_end = time.time()\n",
        "\n",
        "print()\n",
        "total_ipot_cost = (ipot_plan * cost_matrix).sum()\n",
        "print(\"Total IPOT Cost:\", total_ipot_cost)\n",
        "print(\"Total IPOT Time:\", ipot_end - ipot_start)\n",
        "print(\"Num iter:\", ipot_count)"
      ],
      "metadata": {
        "colab": {
          "base_uri": "https://localhost:8080/"
        },
        "id": "orEae2gOEaQm",
        "outputId": "3ecb7300-7b8e-4ad7-92c2-1120c80f884a"
      },
      "execution_count": 7,
      "outputs": [
        {
          "output_type": "stream",
          "name": "stdout",
          "text": [
            "\n",
            "Total IPOT Cost: 6.410761435730386\n",
            "Total IPOT Time: 8.292207717895508\n",
            "Num iter: 1000\n"
          ]
        }
      ]
    },
    {
      "cell_type": "markdown",
      "source": [
        "**With CPU**\n",
        "\n",
        "| Method       | Total Cost        | Total Time (seconds) | Num Iter |\n",
        "|---------------|--------------------|----------------------|----------|\n",
        "| **OT (0.1)**    | 7.012189574275424 | 0.1614372730255127   | 4        |\n",
        "| **OT (0.01)**    | 6.575419710861599 | 0.3141932487487793   | 192      |\n",
        "| **OT (0.05)**    | 6.960093968942695 | 0.1728804111480713   | 7        |\n",
        "| **IPOT (0)**  | 6.410761435730382 | 162.2253954410553    | 1000     |\n",
        "| **IPOT (1)**  | 6.410761435730384 | 16.870448112487793    | 1000     |\n",
        "\n",
        "**With GPU**\n",
        "\n",
        "| Method       | Total Cost        | Total Time (seconds) | Num Iter |\n",
        "|---------------|--------------------|----------------------|----------|\n",
        "| **OT (0.1)**    | 7.012189574275423 | 0.0862886905670166   | 4        |\n",
        "| **OT (0.01)**    | 6.575419710861599 | 0.1262683868408203   | 67      |\n",
        "| **OT (0.05)**    | 6.9600939689426955 | 0.10007762908935547   | 7        |\n",
        "| **IPOT (0)**  | 6.410761435730385 | 86.92793369293213    | 1000     |\n",
        "| **IPOT (1)**  | 6.410761435730386 | 8.292207717895508    | 1000     |"
      ],
      "metadata": {
        "id": "q2SAu2KwMmwJ"
      }
    }
  ]
}